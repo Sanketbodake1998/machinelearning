{
 "cells": [
  {
   "cell_type": "markdown",
   "metadata": {},
   "source": [
    "# Eigen Values and Vectors"
   ]
  },
  {
   "cell_type": "markdown",
   "metadata": {},
   "source": [
    "<p>Mathematically, above statement can be represented as:</p>\n",
    "    <p align=\"center\">AX = <span style=\"font-family: Liberation Serif,serif\">λX </span></p>\n",
    "    <p align=\"left\">where A is any arbitrary matrix, <span style=\"font-family: Liberation Serif,serif\">λ are eigen values </span><span style=\"font-family: Liberation Serif,serif\">and X is an eigen vector corresponding to each eigen value.</span></p>\n",
    "    <p align=\"left\">Here, we can see that AX is parallel to X. So, X is an eigen vector.</p>\n",
    "    <p align=\"left\"><u><b>Method to find eigen vectors and eigen values of any square matrix A<br>\n",
    "</b></u>We know that,</p>\n",
    "<p align=\"center\">AX = λX</p>\n",
    "<p align=\"center\">=&gt; AX – λX = 0</p>\n",
    "<p align=\"center\">&nbsp;&nbsp;&nbsp;&nbsp;&nbsp;&nbsp;&nbsp;&nbsp;&nbsp;&nbsp;&nbsp;&nbsp; =&gt; (A – λI) X = 0 …..(1)</p>\n",
    "<p align=\"left\"><span style=\"font-family: Liberation Serif,serif\">Above condition will be true only if (A – λI) is singular. That means, </span></p>\n",
    "<p align=\"center\"><span style=\"font-family: Liberation Serif,serif\">|A – λI| = 0 …..(2)</span></p>\n",
    "<p align=\"left\">(2) is known as characteristic equation of the matrix.</p>\n",
    "<p align=\"left\">The roots of the characteristic equation are the eigen values of the matrix A.</p>\n",
    "<p align=\"left\">Now, to find the eigen vectors, we simply put each eigen value into (1) and solve it by Gaussian elimination, that is, convert the augmented matrix (A – λI) = 0 to row echelon form and solve the linear system of equations thus obtained.</p>\n",
    "<p align=\"left\"><b>Some important properties of eigen values</b></p>\n",
    "<ul>\n",
    "<li>\n",
    "<p align=\"left\">Eigen values of real symmetric and hermitian matrices are real</p>\n",
    "</li>\n",
    "<li>\n",
    "<p align=\"left\">Eigen values of real skew symmetric and skew hermitian matrices are either pure imaginary or zero</p>\n",
    "</li>\n",
    "<li>\n",
    "<p align=\"left\">Eigen values of unitary and orthogonal matrices are of unit modulus |λ| = 1</p>\n",
    "</li>\n",
    "<li>\n",
    "<p align=\"left\">If λ<sub>1, </sub>λ<sub>2</sub>…….λ<sub>n</sub> are the eigen values of A, then kλ<sub>1</sub>, kλ<sub>2</sub>…….kλ<sub>n</sub> are eigen values of kA</p>\n",
    "</li>\n",
    "<li>\n",
    "<p align=\"left\">If λ<sub>1, </sub>λ<sub>2</sub>…….λ<sub>n</sub> are the eigen values of A, then 1/λ<sub>1</sub>, 1/λ<sub>2</sub>…….1/λ<sub>n</sub> are eigen values of A<sup>-1</sup></p>\n",
    "</li>\n",
    "<li>\n",
    "<p align=\"left\">If λ<sub>1, </sub>λ<sub>2</sub>…….λ<sub>n</sub> are the eigen values of A, then λ<sub>1</sub><sup>k</sup>, λ<sub>2</sub><sup>k</sup>…….λ<sub>n</sub><sup>k</sup> are eigen values of A<sup>k</sup></p><br><br>\n",
    "</li>\n",
    "<li>\n",
    "<p align=\"left\">Eigen values of A = Eigen Values of A<sup>T </sup>(Transpose)</p>\n",
    "</li>\n",
    "<li>\n",
    "<p align=\"left\">Sum of Eigen Values = Trace of A (Sum of diagonal elements of A)</p>\n",
    "</li>\n",
    "<li>\n",
    "<p align=\"left\">Product of Eigen Values = |A|</p>\n",
    "</li>\n",
    "<li>\n",
    "<p align=\"left\">Maximum number of distinct eigen values of A = Size of A</p>\n",
    "</li>\n",
    "<li>\n",
    "<p align=\"left\">If A and B are two matrices of same order then, Eigen values of AB = Eigen values of BA</p>\n",
    "</li>\n",
    "</ul>"
   ]
  },
  {
   "cell_type": "code",
   "execution_count": 2,
   "metadata": {},
   "outputs": [],
   "source": [
    "# importing numpy library \n",
    "import numpy as np \n",
    "  \n",
    "# create numpy 2d-array \n",
    "m = np.array([[1, 2], \n",
    "              [2, 3]]) \n",
    "  \n"
   ]
  },
  {
   "cell_type": "code",
   "execution_count": 3,
   "metadata": {},
   "outputs": [
    {
     "name": "stdout",
     "output_type": "stream",
     "text": [
      "Printing the Original square array:\n",
      " [[1 2]\n",
      " [2 3]]\n"
     ]
    }
   ],
   "source": [
    "print(\"Printing the Original square array:\\n\", m) \n",
    "  \n",
    "# finding eigenvalues and eigenvectors \n",
    "w, v = np.linalg.eig(m) \n"
   ]
  },
  {
   "cell_type": "code",
   "execution_count": 4,
   "metadata": {},
   "outputs": [
    {
     "name": "stdout",
     "output_type": "stream",
     "text": [
      "Printing the Eigen values of the given square array:\n",
      " [-0.23606798  4.23606798]\n",
      "Printing Right eigenvectors of the given square array:\n",
      " [[-0.85065081 -0.52573111]\n",
      " [ 0.52573111 -0.85065081]]\n"
     ]
    }
   ],
   "source": [
    "  \n",
    "# printing eigen values \n",
    "print(\"Printing the Eigen values of the given square array:\\n\",  w) \n",
    "  \n",
    "# printing eigen vectors \n",
    "print(\"Printing Right eigenvectors of the given square array:\\n\",v)"
   ]
  }
 ],
 "metadata": {
  "kernelspec": {
   "display_name": "Python 3",
   "language": "python",
   "name": "python3"
  },
  "language_info": {
   "codemirror_mode": {
    "name": "ipython",
    "version": 3
   },
   "file_extension": ".py",
   "mimetype": "text/x-python",
   "name": "python",
   "nbconvert_exporter": "python",
   "pygments_lexer": "ipython3",
   "version": "3.8.0"
  }
 },
 "nbformat": 4,
 "nbformat_minor": 4
}
