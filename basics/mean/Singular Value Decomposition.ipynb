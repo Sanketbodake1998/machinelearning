{
 "cells": [
  {
   "cell_type": "code",
   "execution_count": 165,
   "metadata": {},
   "outputs": [
    {
     "name": "stdout",
     "output_type": "stream",
     "text": [
      "[[ 3  2  2]\n",
      " [ 2  3 -2]]\n",
      "[[ 3  2]\n",
      " [ 2  3]\n",
      " [ 2 -2]]\n"
     ]
    }
   ],
   "source": [
    "# importing numpy library \n",
    "import numpy as np \n",
    "import sympy as sp\n",
    "  \n",
    "# create numpy 2d-array \n",
    "a = np.array([[3, 2, 2], \n",
    "              [2, 3, -2]]) \n",
    "  \n",
    "print(a)\n",
    "print(a.T)"
   ]
  },
  {
   "cell_type": "markdown",
   "metadata": {},
   "source": [
    "\n",
    "\n",
    "![title](img/svd_ex1.jpeg)"
   ]
  },
  {
   "cell_type": "code",
   "execution_count": 98,
   "metadata": {},
   "outputs": [
    {
     "name": "stdout",
     "output_type": "stream",
     "text": [
      "[[17  8]\n",
      " [ 8 17]]\n",
      "Printing the Eigen values of the given square array:\n",
      " [25.  9.]\n",
      "Printing Right eigenvectors of the given square array:\n",
      " [[ 0.70710678 -0.70710678]\n",
      " [ 0.70710678  0.70710678]]\n"
     ]
    }
   ],
   "source": [
    "aat = np.dot(a, a.T)\n",
    "print(aat)\n",
    "w, v = np.linalg.eig(aat) \n",
    "  \n",
    "# printing eigen values \n",
    "print(\"Printing the Eigen values of the given square array:\\n\",  w) \n",
    "  \n",
    "# printing eigen vectors \n",
    "print(\"Printing Right eigenvectors of the given square array:\\n\",v)"
   ]
  },
  {
   "cell_type": "markdown",
   "metadata": {},
   "source": [
    "The characteristic polynomial is \n",
    "det(AAT − λI) = λ^2 − 34λ + 225 = (λ − 25)(λ − 9), so\n",
    "the singular values are σ1 =√25 = 5 and σ2 =√9 = 3."
   ]
  },
  {
   "cell_type": "code",
   "execution_count": 166,
   "metadata": {},
   "outputs": [
    {
     "name": "stdout",
     "output_type": "stream",
     "text": [
      "[[13 12  2]\n",
      " [12 13 -2]\n",
      " [ 2 -2  8]]\n",
      "[[1. 0. 0.]\n",
      " [0. 1. 0.]\n",
      " [0. 0. 1.]]\n",
      "[[-12.  12.   2.]\n",
      " [ 12. -12.  -2.]\n",
      " [  2.  -2. -17.]]\n"
     ]
    }
   ],
   "source": [
    "ata = np.dot(a.T, a)\n",
    "print(ata)\n",
    "b = np.identity(3, dtype = float)\n",
    "print(b)\n",
    "v1 = ata - 25*b\n",
    "print(v1)"
   ]
  },
  {
   "cell_type": "code",
   "execution_count": 34,
   "metadata": {},
   "outputs": [
    {
     "name": "stdout",
     "output_type": "stream",
     "text": [
      "(Matrix([\n",
      "[  1, -1.0,   0],\n",
      "[0.0,  0.0,   1],\n",
      "[0.0,  0.0, 0.0]]), (0, 2))\n"
     ]
    }
   ],
   "source": [
    "v11 = sp.Matrix(v1).rref()\n",
    "print(v11)"
   ]
  },
  {
   "cell_type": "code",
   "execution_count": 78,
   "metadata": {},
   "outputs": [
    {
     "name": "stdout",
     "output_type": "stream",
     "text": [
      "[[ 1. -1.  0.]\n",
      " [ 0.  0.  1.]\n",
      " [ 0.  0.  0.]]\n"
     ]
    }
   ],
   "source": [
    "v111 = v11[0]\n",
    "string_array = np.array(v111)\n",
    "v111 = string_array.astype(np.float)\n",
    "print(v111)"
   ]
  },
  {
   "cell_type": "code",
   "execution_count": 173,
   "metadata": {},
   "outputs": [
    {
     "data": {
      "text/plain": [
       "array([[ 1., -1.,  0.],\n",
       "       [ 0.,  0.,  1.],\n",
       "       [ 0.,  0.,  0.]])"
      ]
     },
     "execution_count": 173,
     "metadata": {},
     "output_type": "execute_result"
    }
   ],
   "source": [
    "def row_echelon(A):\n",
    "    \"\"\" Return Row Echelon Form of matrix A \"\"\"\n",
    "\n",
    "    # if matrix A has no columns or rows,\n",
    "    # it is already in REF, so we return itself\n",
    "    r, c = A.shape\n",
    "    if r == 0 or c == 0:\n",
    "        return A\n",
    "\n",
    "    # we search for non-zero element in the first column\n",
    "    for i in range(len(A)):\n",
    "        if A[i,0] != 0:\n",
    "            break\n",
    "    else:\n",
    "        # if all elements in the first column is zero,\n",
    "        # we perform REF on matrix from second column\n",
    "        B = row_echelon(A[:,1:])\n",
    "        # and then add the first zero-column back\n",
    "        return np.hstack([A[:,:1], B])\n",
    "\n",
    "    # if non-zero element happens not in the first row,\n",
    "    # we switch rows\n",
    "    if i > 0:\n",
    "        ith_row = A[i].copy()\n",
    "        A[i] = A[0]\n",
    "        A[0] = ith_row\n",
    "\n",
    "    # we divide first row by first element in it\n",
    "    A[0] = A[0] / A[0,0]\n",
    "    # we subtract all subsequent rows with first row (it has 1 now as first element)\n",
    "    # multiplied by the corresponding element in the first column\n",
    "    A[1:] -= A[0] * A[1:,0:1]\n",
    "\n",
    "    # we perform REF on matrix from second row, from second column\n",
    "    B = row_echelon(A[1:,1:])\n",
    "\n",
    "    # we add first row and first (zero) column, and return\n",
    "    return np.vstack([A[:1], np.hstack([A[1:,:1], B]) ])\n",
    "\n",
    "\n",
    "row_echelon(v111)"
   ]
  },
  {
   "cell_type": "code",
   "execution_count": 80,
   "metadata": {},
   "outputs": [
    {
     "name": "stdout",
     "output_type": "stream",
     "text": [
      "(3, 3)\n",
      "[ 1. -1.  0.]\n"
     ]
    }
   ],
   "source": [
    "print(v111.shape)\n",
    "print(v111[0])\n"
   ]
  },
  {
   "cell_type": "code",
   "execution_count": 167,
   "metadata": {},
   "outputs": [
    {
     "name": "stdout",
     "output_type": "stream",
     "text": [
      "[3 6 4]\n",
      "[0.38411064 0.76822128 0.51214752]\n",
      "[ 1. -1.  0.]\n",
      "[ 0.70710678 -0.70710678  0.        ]\n"
     ]
    }
   ],
   "source": [
    "def unit_vector(v):\n",
    "    return v / np.linalg.norm(v)\n",
    "u = np.array([3, 6, 4])\n",
    "print(u)\n",
    "print(unit_vector(u))\n",
    "v = np.array(v111[0])\n",
    "print(v)\n",
    "\n",
    "v1111 = unit_vector(v)\n",
    "print(v1111)"
   ]
  },
  {
   "cell_type": "code",
   "execution_count": 168,
   "metadata": {},
   "outputs": [
    {
     "name": "stdout",
     "output_type": "stream",
     "text": [
      "[[9. 0. 0.]\n",
      " [0. 9. 0.]\n",
      " [0. 0. 9.]]\n",
      "[[ 4. 12.  2.]\n",
      " [12.  4. -2.]\n",
      " [ 2. -2. -1.]]\n"
     ]
    }
   ],
   "source": [
    "v2 = ata - 9*b\n",
    "print(9*b)\n",
    "print(v2)"
   ]
  },
  {
   "cell_type": "code",
   "execution_count": 92,
   "metadata": {},
   "outputs": [
    {
     "name": "stdout",
     "output_type": "stream",
     "text": [
      "(Matrix([\n",
      "[1, 0, -0.25],\n",
      "[0, 1,  0.25],\n",
      "[0, 0,     0]]), (0, 1))\n"
     ]
    }
   ],
   "source": [
    "v22 = sp.Matrix(v2).rref()\n",
    "print(v22)"
   ]
  },
  {
   "cell_type": "code",
   "execution_count": 93,
   "metadata": {},
   "outputs": [
    {
     "name": "stdout",
     "output_type": "stream",
     "text": [
      "[[ 1.    0.   -0.25]\n",
      " [ 0.    1.    0.25]\n",
      " [ 0.    0.    0.  ]]\n"
     ]
    }
   ],
   "source": [
    "string_array = np.array(v22[0])\n",
    "v222 = string_array.astype(np.float)\n",
    "print(v222)"
   ]
  },
  {
   "cell_type": "code",
   "execution_count": 172,
   "metadata": {},
   "outputs": [
    {
     "name": "stdout",
     "output_type": "stream",
     "text": [
      "[ 0.9701425   0.         -0.24253563]\n"
     ]
    }
   ],
   "source": [
    "v2222 = np.array(v222[0])\n",
    "v2222 = unit_vector(v2222)\n",
    "print(v2222)"
   ]
  },
  {
   "cell_type": "code",
   "execution_count": 110,
   "metadata": {},
   "outputs": [],
   "source": [
    "U = np.array([[ 0.70710678, 0.70710678],[ 0.70710678,- 0.70710678]])\n",
    "S = np.array([[5,0,0],[0,3,0]])\n",
    "V = np.array([[0.70710678,0.70710678,0],[0.24253563,-0.24253563,0.9701425],[0.666666666666667,-0.666666666666667,-0.333333333333333]])"
   ]
  },
  {
   "cell_type": "markdown",
   "metadata": {},
   "source": [
    "![title](img/svd_ex2.jpeg)"
   ]
  },
  {
   "cell_type": "code",
   "execution_count": 155,
   "metadata": {},
   "outputs": [
    {
     "name": "stdout",
     "output_type": "stream",
     "text": [
      "[[ 3.01449576  1.98550423  2.05798302]\n",
      " [ 1.98550423  3.01449576 -2.05798302]]\n"
     ]
    }
   ],
   "source": [
    "b = np.matmul(U,S)\n",
    "A = np.matmul(b,V)\n",
    "print(A)"
   ]
  },
  {
   "cell_type": "code",
   "execution_count": 159,
   "metadata": {},
   "outputs": [
    {
     "name": "stdout",
     "output_type": "stream",
     "text": [
      "[[-0.70710678 -0.70710678]\n",
      " [-0.70710678  0.70710678]]\n",
      "[5. 3.]\n",
      "[[-7.07106781e-01 -7.07106781e-01 -6.47932334e-17]\n",
      " [-2.35702260e-01  2.35702260e-01 -9.42809042e-01]\n",
      " [-6.66666667e-01  6.66666667e-01  3.33333333e-01]]\n",
      "(2, 3)\n"
     ]
    }
   ],
   "source": [
    "a = np.array([[3, 2, 2], \n",
    "              [2, 3, -2]]) \n",
    "  \n",
    "U1, s1, V1T = np.linalg.svd(a)\n",
    "print(U1)\n",
    "print(s1)\n",
    "print(V1T)\n",
    "\n",
    "# create m x n D matrix\n",
    "print(a.shape)\n",
    "D = np.zeros(a.shape)"
   ]
  },
  {
   "cell_type": "code",
   "execution_count": 162,
   "metadata": {},
   "outputs": [
    {
     "name": "stdout",
     "output_type": "stream",
     "text": [
      "[[5. 0. 0.]\n",
      " [0. 3. 0.]]\n"
     ]
    }
   ],
   "source": [
    "# populate D with n x n diagonal matrix\n",
    "\n",
    "diagonal = np.diag(s1)\n",
    "extra = np.array([[0],[0]])\n",
    "diagonal = np.append(diagonal, extra, axis=1)\n",
    "\n",
    "print(diagonal)"
   ]
  },
  {
   "cell_type": "code",
   "execution_count": 163,
   "metadata": {},
   "outputs": [
    {
     "name": "stdout",
     "output_type": "stream",
     "text": [
      "[[ 3.  2.  2.]\n",
      " [ 2.  3. -2.]]\n"
     ]
    }
   ],
   "source": [
    "\n",
    "b = np.matmul(U1,diagonal)\n",
    "A = np.matmul(b,V1T)\n",
    "print(A)"
   ]
  },
  {
   "cell_type": "code",
   "execution_count": null,
   "metadata": {},
   "outputs": [],
   "source": []
  }
 ],
 "metadata": {
  "kernelspec": {
   "display_name": "Python 3",
   "language": "python",
   "name": "python3"
  },
  "language_info": {
   "codemirror_mode": {
    "name": "ipython",
    "version": 3
   },
   "file_extension": ".py",
   "mimetype": "text/x-python",
   "name": "python",
   "nbconvert_exporter": "python",
   "pygments_lexer": "ipython3",
   "version": "3.8.0"
  }
 },
 "nbformat": 4,
 "nbformat_minor": 4
}
