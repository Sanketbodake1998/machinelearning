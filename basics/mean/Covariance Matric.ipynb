{
 "cells": [
  {
   "cell_type": "markdown",
   "metadata": {},
   "source": [
    "# Covariance Matrix"
   ]
  },
  {
   "cell_type": "markdown",
   "metadata": {},
   "source": [
    "<h1>Create a Covariance Matrix using Python</h1>\n",
    "\n",
    "For example, \n",
    "<table>\n",
    "    <th>\n",
    "    <tr>\n",
    "        <td>A</td>\n",
    "        <td>B</td>\n",
    "        <td>C</td>\n",
    "    </tr>\n",
    "    </th>\n",
    "    <tbody>\n",
    "    <tr>\n",
    "        <td>45</td>\n",
    "        <td>38</td>\n",
    "        <td>10</td>\n",
    "    </tr>\n",
    "    <tr>\n",
    "        <td>37</td>\n",
    "        <td>31</td>\n",
    "        <td>15</td>\n",
    "    </tr>\n",
    "    <tr>\n",
    "        <td>42</td>\n",
    "        <td>26</td>\n",
    "        <td>17</td>\n",
    "    </tr>\n",
    "    <tr>\n",
    "        <td>35</td>\n",
    "        <td>28</td>\n",
    "        <td>21</td>\n",
    "    </tr>\n",
    "    <tr>\n",
    "        <td>39</td>\n",
    "        <td>33</td>\n",
    "        <td>12</td>\n",
    "    </tr>\n",
    "    </tbody>\n",
    "</table>\n"
   ]
  },
  {
   "cell_type": "code",
   "execution_count": 25,
   "metadata": {},
   "outputs": [
    {
     "name": "stdout",
     "output_type": "stream",
     "text": [
      "[[ 12.64   7.68  -9.6 ]\n",
      " [  7.68  17.36 -13.8 ]\n",
      " [ -9.6  -13.8   14.8 ]]\n"
     ]
    }
   ],
   "source": [
    "import numpy as np\n",
    "\n",
    "A = [45,37,42,35,39]\n",
    "B = [38,31,26,28,33]\n",
    "C = [10,15,17,21,12]\n",
    "\n",
    "data = np.array([A,B,C])\n",
    "\n",
    "covMatrix = np.cov(data,bias=True)\n",
    "print (covMatrix)"
   ]
  },
  {
   "cell_type": "markdown",
   "metadata": {},
   "source": [
    "<p><strong>Covariance</strong> is a measure of the extent to which \n",
    "        corresponding elements from two sets of ordered data move in the same direction.  \n",
    "        We use the following formula to compute covariance.</p>\n",
    "        <p style=\"text-align:center;\">\n",
    "        Cov(<i>X</i>, <i>Y</i>) = \n",
    "        Σ ( <i>X</i><sub>i</sub> - <span class=\"Over\"><i>X</i></span> ) \n",
    "        ( <i>Y</i><sub>i</sub> - <span class=\"Over\"><i>Y</i></span> ) / <i>N</i> \n",
    "        = Σ <i>x</i><sub>i</sub><i>y</i><sub>i</sub> / <i>N</i>\n",
    "    </p>\n",
    "    <p>where</p>\n",
    "    <p style=\"padding-left:20px;\">\n",
    "        <i>N</i> is the number of scores in each set of data<br>\n",
    "        <span class=\"Over\"><i>X</i></span> is the \n",
    "        <a rel=\"external\" href=\"/statistics/dictionary.aspx?definition=Mean\">mean</a>\n",
    "        of the <i>N</i> scores in the first data set<br>\n",
    "        <i>X</i><sub>i</sub> is the <i>i</i>the raw score in the first set of \n",
    "            scores<br>\n",
    "        <i>x</i><sub>i</sub> is the <i>i</i>th deviation score in the first set of \n",
    "            scores<br>\n",
    "        <span class=\"Over\"><i>Y</i></span> is the \n",
    "        <a rel=\"external\" href=\"/statistics/dictionary.aspx?definition=Mean\">mean</a>\n",
    "        of the <i>N</i> scores in the second data set<br>\n",
    "        <i>Y</i><sub>i</sub> is the <i>i</i>the raw score in the second set \n",
    "            of scores<br>\n",
    "        <i>y</i><sub>i</sub> is the <i>i</i>th deviation score in the second set of \n",
    "            scores<br>\n",
    "        Cov(<i>X</i>, <i>Y</i>) is the covariance of corresponding scores in the \n",
    "            two sets of data\n",
    "    </p>"
   ]
  },
  {
   "cell_type": "code",
   "execution_count": 7,
   "metadata": {},
   "outputs": [
    {
     "name": "stdout",
     "output_type": "stream",
     "text": [
      "[[45 37 42 35 39]\n",
      " [38 31 26 28 33]\n",
      " [10 15 17 21 12]]\n"
     ]
    }
   ],
   "source": [
    "print(data)"
   ]
  },
  {
   "cell_type": "code",
   "execution_count": 24,
   "metadata": {},
   "outputs": [
    {
     "name": "stdout",
     "output_type": "stream",
     "text": [
      "[[45 38 10]\n",
      " [37 31 15]\n",
      " [42 26 17]\n",
      " [35 28 21]\n",
      " [39 33 12]]\n"
     ]
    }
   ],
   "source": [
    "print(data.T)"
   ]
  },
  {
   "cell_type": "code",
   "execution_count": 14,
   "metadata": {},
   "outputs": [
    {
     "name": "stdout",
     "output_type": "stream",
     "text": [
      "[39.6 31.2 15. ]\n"
     ]
    }
   ],
   "source": [
    "B = data.T\n",
    "mean2 = np.mean(B, axis=0)\n",
    "print(mean2)"
   ]
  },
  {
   "cell_type": "code",
   "execution_count": 16,
   "metadata": {},
   "outputs": [
    {
     "name": "stdout",
     "output_type": "stream",
     "text": [
      "[[ 5.4  6.8 -5. ]\n",
      " [-2.6 -0.2  0. ]\n",
      " [ 2.4 -5.2  2. ]\n",
      " [-4.6 -3.2  6. ]\n",
      " [-0.6  1.8 -3. ]]\n"
     ]
    }
   ],
   "source": [
    "diff2 = (B - mean2)\n",
    "print(diff2)"
   ]
  },
  {
   "cell_type": "code",
   "execution_count": 30,
   "metadata": {},
   "outputs": [
    {
     "name": "stdout",
     "output_type": "stream",
     "text": [
      "[[ 12.64   7.68  -9.6 ]\n",
      " [  7.68  17.36 -13.8 ]\n",
      " [ -9.6  -13.8   14.8 ]]\n"
     ]
    }
   ],
   "source": [
    "res = np.dot(diff2.T,diff2)/5 \n",
    "print(res) "
   ]
  },
  {
   "cell_type": "code",
   "execution_count": 33,
   "metadata": {},
   "outputs": [
    {
     "name": "stdout",
     "output_type": "stream",
     "text": [
      "[[ 12.64   7.68  -9.6 ]\n",
      " [  7.68  17.36 -13.8 ]\n",
      " [ -9.6  -13.8   14.8 ]]\n"
     ]
    }
   ],
   "source": [
    "data = np.array([A,B,C])\n",
    "covMatrix = np.cov(data,bias=True)\n",
    "print (covMatrix)"
   ]
  },
  {
   "cell_type": "code",
   "execution_count": 26,
   "metadata": {},
   "outputs": [
    {
     "data": {
      "image/png": "[encoded data removed]",
      "text/plain": [
       "<Figure size 432x288 with 2 Axes>"
      ]
     },
     "metadata": {
      "needs_background": "light"
     },
     "output_type": "display_data"
    }
   ],
   "source": [
    "import numpy as np\n",
    "import seaborn as sn\n",
    "import matplotlib.pyplot as plt\n",
    "\n",
    "A = [45,37,42,35,39]\n",
    "B = [38,31,26,28,33]\n",
    "C = [10,15,17,21,12]\n",
    "\n",
    "data = np.array([A,B,C])\n",
    "\n",
    "covMatrix = np.cov(data,bias=True)\n",
    "sn.heatmap(covMatrix, annot=True, fmt='g')\n",
    "plt.show()"
   ]
  },
  {
   "cell_type": "code",
   "execution_count": 27,
   "metadata": {},
   "outputs": [
    {
     "name": "stdout",
     "output_type": "stream",
     "text": [
      "[[ 15.8    9.6  -12.  ]\n",
      " [  9.6   21.7  -17.25]\n",
      " [-12.   -17.25  18.5 ]]\n"
     ]
    }
   ],
   "source": [
    "import numpy as np\n",
    "\n",
    "A = [45,37,42,35,39]\n",
    "B = [38,31,26,28,33]\n",
    "C = [10,15,17,21,12]\n",
    "\n",
    "data = np.array([A,B,C])\n",
    "\n",
    "covMatrix = np.cov(data,bias=False)\n",
    "print (covMatrix)"
   ]
  },
  {
   "cell_type": "code",
   "execution_count": 28,
   "metadata": {},
   "outputs": [
    {
     "name": "stdout",
     "output_type": "stream",
     "text": [
      "      A      B      C\n",
      "A  15.8   9.60 -12.00\n",
      "B   9.6  21.70 -17.25\n",
      "C -12.0 -17.25  18.50\n"
     ]
    }
   ],
   "source": [
    "import pandas as pd\n",
    "\n",
    "data = {'A': [45,37,42,35,39],\n",
    "        'B': [38,31,26,28,33],\n",
    "        'C': [10,15,17,21,12]\n",
    "        }\n",
    "\n",
    "df = pd.DataFrame(data,columns=['A','B','C'])\n",
    "\n",
    "covMatrix = pd.DataFrame.cov(df)\n",
    "print (covMatrix)"
   ]
  },
  {
   "cell_type": "code",
   "execution_count": 29,
   "metadata": {},
   "outputs": [
    {
     "data": {
      "image/png": "[encoded data removed]",
      "text/plain": [
       "<Figure size 432x288 with 2 Axes>"
      ]
     },
     "metadata": {
      "needs_background": "light"
     },
     "output_type": "display_data"
    }
   ],
   "source": [
    "import pandas as pd\n",
    "import seaborn as sn\n",
    "import matplotlib.pyplot as plt\n",
    "\n",
    "data = {'A': [45,37,42,35,39],\n",
    "        'B': [38,31,26,28,33],\n",
    "        'C': [10,15,17,21,12]\n",
    "        }\n",
    "\n",
    "df = pd.DataFrame(data,columns=['A','B','C'])\n",
    "\n",
    "covMatrix = pd.DataFrame.cov(df)\n",
    "sn.heatmap(covMatrix, annot=True, fmt='g')\n",
    "plt.show()"
   ]
  },
  {
   "cell_type": "code",
   "execution_count": null,
   "metadata": {},
   "outputs": [],
   "source": []
  }
 ],
 "metadata": {
  "kernelspec": {
   "display_name": "Python 3",
   "language": "python",
   "name": "python3"
  },
  "language_info": {
   "codemirror_mode": {
    "name": "ipython",
    "version": 3
   },
   "file_extension": ".py",
   "mimetype": "text/x-python",
   "name": "python",
   "nbconvert_exporter": "python",
   "pygments_lexer": "ipython3",
   "version": "3.8.0"
  }
 },
 "nbformat": 4,
 "nbformat_minor": 4
}
